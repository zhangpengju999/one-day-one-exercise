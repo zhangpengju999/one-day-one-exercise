{
 "cells": [
  {
   "cell_type": "code",
   "execution_count": 1,
   "metadata": {},
   "outputs": [
    {
     "name": "stdout",
     "output_type": "stream",
     "text": [
      "9\n",
      "8\n",
      "5\n",
      "3\n",
      "2\n"
     ]
    }
   ],
   "source": [
    "a = [9,2,8,5,3,1]\n",
    "def numk(a, k):\n",
    "    result = 0\n",
    "    for i in range(31,-1,-1):\n",
    "        pos = 1 << i\n",
    "        t0, t1 = [], []\n",
    "        n = 0\n",
    "        for j in a:\n",
    "            if pos & j:\n",
    "                n += 1\n",
    "                t1.append(j)\n",
    "            else:\n",
    "                t0.append(j)\n",
    "        if n < k:\n",
    "            k -= n\n",
    "            a = t0\n",
    "        else:\n",
    "            result += pos\n",
    "            a = t1\n",
    "    return result\n",
    "\n",
    "for i in range(1,len(a)):\n",
    "    print(numk(a,i))"
   ]
  },
  {
   "cell_type": "code",
   "execution_count": null,
   "metadata": {
    "collapsed": true
   },
   "outputs": [],
   "source": []
  }
 ],
 "metadata": {
  "kernelspec": {
   "display_name": "Python 3",
   "language": "python",
   "name": "python3"
  },
  "language_info": {
   "codemirror_mode": {
    "name": "ipython",
    "version": 3
   },
   "file_extension": ".py",
   "mimetype": "text/x-python",
   "name": "python",
   "nbconvert_exporter": "python",
   "pygments_lexer": "ipython3",
   "version": "3.6.1"
  }
 },
 "nbformat": 4,
 "nbformat_minor": 2
}
