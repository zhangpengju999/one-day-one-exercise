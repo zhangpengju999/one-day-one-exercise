{
 "cells": [
  {
   "cell_type": "markdown",
   "metadata": {},
   "source": [
    "# 假设检验--第一讲主要内容\n",
    "## 用ks检验，验证正态分布"
   ]
  },
  {
   "cell_type": "code",
   "execution_count": null,
   "metadata": {},
   "outputs": [],
   "source": [
    "from scipy.stats import kstest,ks_2samp\n",
    "import numpy as np\n",
    "\n",
    "x = np.random.normal(0,1,1000)\n",
    "test_stat = kstest(x, 'norm')\n",
    "print test_stat"
   ]
  },
  {
   "cell_type": "markdown",
   "metadata": {},
   "source": [
    "## 用ks检验，验证双样本分布"
   ]
  },
  {
   "cell_type": "code",
   "execution_count": null,
   "metadata": {},
   "outputs": [],
   "source": [
    "from scipy.stats import ks_2samp\n",
    "beta=np.random.beta(7,5,1000)\n",
    "poisson=np.random.poisson(1,1000)\n",
    "norm=np.random.normal(0,1,1000)\n",
    "ks_2samp(poisson,norm)"
   ]
  },
  {
   "cell_type": "markdown",
   "metadata": {},
   "source": [
    "## ks检验的简化版实现"
   ]
  },
  {
   "cell_type": "code",
   "execution_count": null,
   "metadata": {},
   "outputs": [],
   "source": [
    "from scipy.stats import distributions\n",
    "x = np.random.normal(0,1,100)\n",
    "\n",
    "def copy_ks_test(x):\n",
    "    vals = np.sort(x)\n",
    "    N = len(vals)\n",
    "    cdfvals = distributions.norm.cdf(vals)\n",
    "    Dplus = (np.arange(1.0, N+1)/N - cdfvals).max()\n",
    "    Dmin = (cdfvals - np.arange(0.0, N)/N).max()\n",
    "    D = np.max([Dplus,Dmin])\n",
    "    pval_two = distributions.kstwobign.sf(D*np.sqrt(N))\n",
    "    if N > 2666 or pval_two > 0.80 - N*0.3/1000.0:\n",
    "        print D, distributions.kstwobign.sf(D*np.sqrt(N))\n",
    "    else:\n",
    "        print D, distributions.ksone.sf(D,N)*2\n",
    "    print D, distributions.kstwobign.sf(D*np.sqrt(N))\n",
    "print kstest(x, 'norm')\n",
    "copy_ks_test(x)"
   ]
  },
  {
   "cell_type": "markdown",
   "metadata": {},
   "source": [
    "## 卡方检验验证样本分布"
   ]
  },
  {
   "cell_type": "code",
   "execution_count": null,
   "metadata": {},
   "outputs": [],
   "source": [
    "from scipy.stats import distributions\n",
    "from scipy.stats import chisquare\n",
    "\n",
    "def my_chi2_test(x):\n",
    "    vals = np.sort(x)\n",
    "    N = len(vals)\n",
    "    partnum = N/100\n",
    "    cdfvals = distributions.norm.cdf(vals)\n",
    "    exp = [N/partnum]*partnum\n",
    "#     cdfx = np.searchsorted(cdfvals, np.arange(1.0, 10+1)/10, side='right')/(1.*N)\n",
    "#     print cdfx\n",
    "    def countsorted(a, N):\n",
    "        r = np.array([0]*N)\n",
    "        dur = 1.0 / N\n",
    "        for i in a:\n",
    "            r[int(i/dur)] += 1\n",
    "        return r\n",
    "    f_obs = countsorted(cdfvals, partnum)\n",
    "    print '**** 分段统计 ****'\n",
    "    print 'f_obs : {}'.format(f_obs)\n",
    "    print 'exp : {}'.format(exp)\n",
    "    print chisquare(f_obs,exp)\n",
    "    print '********\\n'\n",
    "    f_obs2 = np.searchsorted(cdfvals, np.arange(1.0, partnum+1)/partnum)\n",
    "    exp2 = np.cumsum(exp)\n",
    "    print '**** 分段累积统计 ****'\n",
    "    print 'f_obs2 : {}'.format(f_obs2)\n",
    "    print 'exp2 : {}'.format(exp2)\n",
    "    print chisquare(f_obs2,exp2)\n",
    "\n",
    "x = np.random.normal(0,1,1000)\n",
    "my_chi2_test(x)"
   ]
  },
  {
   "cell_type": "markdown",
   "metadata": {},
   "source": [
    "## 一些测试可忽略"
   ]
  },
  {
   "cell_type": "code",
   "execution_count": null,
   "metadata": {
    "collapsed": true
   },
   "outputs": [],
   "source": [
    "import scipy.stats.distributions\n",
    "N = 20 \n",
    "x = np.random.normal(0,1,N)\n",
    "vals = np.sort(x)\n",
    "nd = scipy.stats.distributions.norm\n",
    "ndc = scipy.stats.distributions.norm.cdf\n",
    "print vals\n",
    "print ndc(vals)\n",
    "print np.arange(1.0, N+1)/N\n",
    "print np.arange(0.0, N)/N"
   ]
  },
  {
   "cell_type": "code",
   "execution_count": null,
   "metadata": {
    "collapsed": true
   },
   "outputs": [],
   "source": [
    "data1 = np.random.normal(0,1,10)\n",
    "data2 = np.random.normal(0,1,10)\n",
    "n1 = data1.shape[0]\n",
    "n2 = data2.shape[0]\n",
    "n1 = len(data1)\n",
    "n2 = len(data2)\n",
    "data1 = np.sort(data1)\n",
    "data2 = np.sort(data2)\n",
    "data_all = np.concatenate([data1,data2])\n",
    "cdf1 = np.searchsorted(data1,data_all,side='right')/(1.0*n1)\n",
    "cdf2 = (np.searchsorted(data2,data_all,side='right'))/(1.0*n2)\n",
    "print cdf1\n",
    "print cdf2"
   ]
  }
 ],
 "metadata": {
  "kernelspec": {
   "display_name": "Python 2",
   "language": "python",
   "name": "python2"
  },
  "language_info": {
   "codemirror_mode": {
    "name": "ipython",
    "version": 2
   },
   "file_extension": ".py",
   "mimetype": "text/x-python",
   "name": "python",
   "nbconvert_exporter": "python",
   "pygments_lexer": "ipython2",
   "version": "2.7.13"
  }
 },
 "nbformat": 4,
 "nbformat_minor": 2
}
