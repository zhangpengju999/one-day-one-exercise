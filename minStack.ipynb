{
 "cells": [
  {
   "cell_type": "raw",
   "metadata": {},
   "source": [
    "设计一个常数时间取最小值的栈"
   ]
  },
  {
   "cell_type": "code",
   "execution_count": 35,
   "metadata": {},
   "outputs": [],
   "source": [
    "class myStack(object):\n",
    "    def __init__(self):\n",
    "        self.data = []\n",
    "        self.minstack = []\n",
    "    def isEmpty(self):\n",
    "        return not self.data\n",
    "    def getSize(self):\n",
    "        return len(self.data)\n",
    "    def getTop(self):\n",
    "        if self.getSize() == 0:\n",
    "            return None\n",
    "        else:\n",
    "            return self.data[-1]\n",
    "    def printIt(self):\n",
    "        return self.data\n",
    "    def pop(self):\n",
    "        if self.getSize() == 0:\n",
    "            return None\n",
    "        else:\n",
    "            self.minstack.pop()\n",
    "            return self.data.pop()\n",
    "    def push(self, a):\n",
    "        self.data.append(a)\n",
    "        if not self.minstack:\n",
    "            self.minstack.append(a)\n",
    "        else:\n",
    "            top=self.minstack[-1]\n",
    "            if a>top:\n",
    "                self.minstack.append(top)\n",
    "            else:\n",
    "                self.minstack.append(a)\n",
    "    def getMin(self):\n",
    "        if self.isEmpty():\n",
    "            return None\n",
    "        return self.minstack[-1]"
   ]
  },
  {
   "cell_type": "code",
   "execution_count": 36,
   "metadata": {},
   "outputs": [
    {
     "name": "stdout",
     "output_type": "stream",
     "text": [
      "1\n",
      "1\n",
      "1\n",
      "1\n",
      "-3\n",
      "-3\n",
      "-3\n",
      "-3\n",
      "-4\n"
     ]
    },
    {
     "data": {
      "text/plain": [
       "[1, 2, -3, -2, -4]"
      ]
     },
     "execution_count": 36,
     "metadata": {},
     "output_type": "execute_result"
    }
   ],
   "source": [
    "testStack=myStack()\n",
    "testStack.pop()\n",
    "testStack.push(1)\n",
    "print testStack.getMin()\n",
    "testStack.push(2)\n",
    "print testStack.getMin()\n",
    "testStack.push(3)\n",
    "print testStack.getMin()\n",
    "testStack.pop()\n",
    "print testStack.getMin()\n",
    "testStack.push(-3)\n",
    "print testStack.getMin()\n",
    "testStack.push(-2)\n",
    "print testStack.getMin()\n",
    "testStack.push(-1)\n",
    "print testStack.getMin()\n",
    "testStack.pop()\n",
    "print testStack.getMin()\n",
    "testStack.push(-4)\n",
    "print testStack.getMin()\n",
    "testStack.printIt()"
   ]
  },
  {
   "cell_type": "code",
   "execution_count": null,
   "metadata": {
    "collapsed": true
   },
   "outputs": [],
   "source": []
  }
 ],
 "metadata": {
  "kernelspec": {
   "display_name": "Python 2",
   "language": "python",
   "name": "python2"
  },
  "language_info": {
   "codemirror_mode": {
    "name": "ipython",
    "version": 2
   },
   "file_extension": ".py",
   "mimetype": "text/x-python",
   "name": "python",
   "nbconvert_exporter": "python",
   "pygments_lexer": "ipython2",
   "version": "2.7.10"
  }
 },
 "nbformat": 4,
 "nbformat_minor": 2
}
