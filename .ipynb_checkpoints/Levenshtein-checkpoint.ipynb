{
 "cells": [
  {
   "cell_type": "markdown",
   "metadata": {},
   "source": [
    "### 编辑距离"
   ]
  },
  {
   "cell_type": "code",
   "execution_count": 10,
   "metadata": {
    "collapsed": true
   },
   "outputs": [],
   "source": [
    "def normal_leven(str1, str2):\n",
    "    len_str1 = len(str1) + 1\n",
    "    len_str2 = len(str2) + 1\n",
    "    #create matrix\n",
    "    matrix = [0 for n in range(len_str1 * len_str2)]\n",
    "    #init x axis\n",
    "    for i in range(len_str1):\n",
    "        matrix[i] = i\n",
    "    #init y axis\n",
    "    for j in range(0, len(matrix), len_str1):\n",
    "        if j % len_str1 == 0:\n",
    "            matrix[j] = j // len_str1\n",
    "        \n",
    "    for i in range(1, len_str1):\n",
    "        for j in range(1, len_str2):\n",
    "            cost = 0 if str1[i-1] == str2[j-1] else 1\n",
    "            matrix[j*len_str1+i] = min(matrix[(j-1)*len_str1+i]+1,\n",
    "                            matrix[j*len_str1+(i-1)]+1,\n",
    "                            matrix[(j-1)*len_str1+(i-1)] + cost)\n",
    "        \n",
    "    return matrix[-1]"
   ]
  },
  {
   "cell_type": "code",
   "execution_count": 11,
   "metadata": {},
   "outputs": [
    {
     "name": "stdout",
     "output_type": "stream",
     "text": [
      "handwork : 2\n",
      "by lib: 2\n",
      "handwork : 4\n",
      "by lib: 4\n",
      "handwork : 2\n",
      "by lib: 2\n"
     ]
    }
   ],
   "source": [
    "import Levenshtein\n",
    "\n",
    "tests = [['abc','cba'],['string','story'],['book','block']]\n",
    "for s1,s2 in tests:\n",
    "    print 'handwork : {}'.format(normal_leven(s1, s2))\n",
    "    # 用库 会快大概100~1000倍\n",
    "    print 'by lib: {}'.format(Levenshtein.distance(s1, s2))"
   ]
  },
  {
   "cell_type": "code",
   "execution_count": 13,
   "metadata": {},
   "outputs": [
    {
     "name": "stdout",
     "output_type": "stream",
     "text": [
      "insert  a[0: 0] --> b[0: 2]  --> cb\n",
      "equal   a[0: 1] --> b[2: 3] a --> a\n",
      "delete  a[1: 3] --> b[3: 3] bc --> \n",
      "4\n",
      "equal   a[0: 2] --> b[0: 2] st --> st\n",
      "insert  a[2: 2] --> b[2: 3]  --> o\n",
      "equal   a[2: 3] --> b[3: 4] r --> r\n",
      "replace a[3: 6] --> b[4: 5] ing --> y\n",
      "4\n",
      "equal   a[0: 1] --> b[0: 1] b --> b\n",
      "insert  a[1: 1] --> b[1: 2]  --> l\n",
      "equal   a[1: 2] --> b[2: 3] o --> o\n",
      "replace a[2: 3] --> b[3: 4] o --> c\n",
      "equal   a[3: 4] --> b[4: 5] k --> k\n",
      "2\n"
     ]
    }
   ],
   "source": [
    "import difflib\n",
    "\n",
    "# 这个是用来看两个序列的差异，应该不是编辑距离，有兴趣可以看看\n",
    "def difflib_leven(str1, str2):\n",
    "   leven_cost = 0\n",
    "   s = difflib.SequenceMatcher(None, str1, str2)\n",
    "   for tag, i1, i2, j1, j2 in s.get_opcodes():\n",
    "       print('{:7} a[{}: {}] --> b[{}: {}] {} --> {}'.format(tag, i1, i2, j1, j2, str1[i1: i2], str2[j1: j2]))\n",
    "       if tag == 'replace':\n",
    "           leven_cost += max(i2-i1, j2-j1)\n",
    "       elif tag == 'insert':\n",
    "           leven_cost += (j2-j1)\n",
    "       elif tag == 'delete':\n",
    "           leven_cost += (i2-i1)\n",
    "   return leven_cost\n",
    "\n",
    "for s1,s2 in tests:\n",
    "    print difflib_leven(s1, s2)"
   ]
  },
  {
   "cell_type": "code",
   "execution_count": null,
   "metadata": {
    "collapsed": true
   },
   "outputs": [],
   "source": []
  }
 ],
 "metadata": {
  "kernelspec": {
   "display_name": "Python 2",
   "language": "python",
   "name": "python2"
  },
  "language_info": {
   "codemirror_mode": {
    "name": "ipython",
    "version": 2
   },
   "file_extension": ".py",
   "mimetype": "text/x-python",
   "name": "python",
   "nbconvert_exporter": "python",
   "pygments_lexer": "ipython2",
   "version": "2.7.13"
  }
 },
 "nbformat": 4,
 "nbformat_minor": 2
}
