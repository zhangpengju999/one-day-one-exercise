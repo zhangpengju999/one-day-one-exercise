{
 "cells": [
  {
   "cell_type": "code",
   "execution_count": 14,
   "metadata": {
    "collapsed": true
   },
   "outputs": [],
   "source": [
    "#本文记录01背包问题和完全背包问题  \n",
    "# written by bijingrui\n",
    "# 问题描述：\n",
    "# 一个包，n个物品，w[n]是物品重量，v[n]是物品价值。求最大重量c限制下的最大价值\n",
    "# 01背包：每种物品只有一个\n",
    "# 完全背包：每种物品无限个"
   ]
  },
  {
   "cell_type": "code",
   "execution_count": 15,
   "metadata": {
    "collapsed": true
   },
   "outputs": [],
   "source": [
    "def zero_one_bag(n, c, w, v):\n",
    "    res = [[0 for j in range(c + 1)] for i in range(n + 1)]\n",
    "    for i in range(1, n + 1):\n",
    "        for j in range(1, c + 1):\n",
    "            if j < w[i-1]:\n",
    "                res[i][j] = res[i - 1][j]\n",
    "            else:\n",
    "                res[i][j] = max(res[i - 1][j], res[i - 1][j-w[i-1]] + v[i-1])\n",
    "    return res[n][c]"
   ]
  },
  {
   "cell_type": "code",
   "execution_count": 16,
   "metadata": {},
   "outputs": [
    {
     "name": "stdout",
     "output_type": "stream",
     "text": [
      "15\n"
     ]
    }
   ],
   "source": [
    "n=5  \n",
    "c=10  \n",
    "w=[2,2,6,5,4]  \n",
    "v=[6,3,5,4,6]\n",
    "print zero_one_bag(n,c,w,v)"
   ]
  },
  {
   "cell_type": "code",
   "execution_count": 17,
   "metadata": {
    "collapsed": true
   },
   "outputs": [],
   "source": [
    "#上面的算法时间空间复杂度均为 O(nc), 可以优化空间复杂度到 O(c)"
   ]
  },
  {
   "cell_type": "code",
   "execution_count": 46,
   "metadata": {
    "collapsed": true
   },
   "outputs": [],
   "source": [
    "def zero_one_bag_opti(n, c, w, v):\n",
    "    res = [0 for j in range(c + 1)]\n",
    "    for i in range(1, n + 1):\n",
    "        for j in range(c, w[i-1]-1, -1):\n",
    "            res[j] = max(res[j], res[j-w[i-1]] + v[i-1])\n",
    "    return res[c]"
   ]
  },
  {
   "cell_type": "code",
   "execution_count": 47,
   "metadata": {},
   "outputs": [
    {
     "name": "stdout",
     "output_type": "stream",
     "text": [
      "15\n"
     ]
    }
   ],
   "source": [
    "n=5  \n",
    "c=10  \n",
    "w=[2,2,6,5,4]  \n",
    "v=[6,3,5,4,6]\n",
    "print zero_one_bag_opti(n,c,w,v)"
   ]
  },
  {
   "cell_type": "code",
   "execution_count": 52,
   "metadata": {
    "collapsed": true
   },
   "outputs": [],
   "source": [
    "#完全背包问题\n",
    "def perfact_bag(n, c, w, v):\n",
    "    res = [0 for j in range(c + 1)]\n",
    "    for i in range(1, n + 1):\n",
    "        for j in range(w[i-1], c + 1):\n",
    "            res[j] = max(res[j], res[j-w[i-1]] + v[i-1])\n",
    "    return res[c]"
   ]
  },
  {
   "cell_type": "code",
   "execution_count": 54,
   "metadata": {},
   "outputs": [
    {
     "name": "stdout",
     "output_type": "stream",
     "text": [
      "30\n"
     ]
    }
   ],
   "source": [
    "n=5  \n",
    "c=10  \n",
    "w=[2,2,6,5,4]  \n",
    "v=[6,3,5,4,6]\n",
    "print perfact_bag(n,c,w,v)"
   ]
  },
  {
   "cell_type": "code",
   "execution_count": null,
   "metadata": {
    "collapsed": true
   },
   "outputs": [],
   "source": []
  }
 ],
 "metadata": {
  "kernelspec": {
   "display_name": "Python 2",
   "language": "python",
   "name": "python2"
  },
  "language_info": {
   "codemirror_mode": {
    "name": "ipython",
    "version": 2
   },
   "file_extension": ".py",
   "mimetype": "text/x-python",
   "name": "python",
   "nbconvert_exporter": "python",
   "pygments_lexer": "ipython2",
   "version": "2.7.10"
  }
 },
 "nbformat": 4,
 "nbformat_minor": 2
}
