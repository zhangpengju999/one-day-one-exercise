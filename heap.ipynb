{
 "cells": [
  {
   "cell_type": "raw",
   "metadata": {},
   "source": [
    "1  最大堆 最小堆 实现\n",
    "2  堆排序实现\n",
    "3  求数组第K大的两种实现"
   ]
  },
  {
   "cell_type": "code",
   "execution_count": 87,
   "metadata": {
    "collapsed": true
   },
   "outputs": [],
   "source": [
    "class myHeap(object):\n",
    "    def __init__(self, heaptype='maxHeap'):\n",
    "        self.items=[]\n",
    "        self.heaptype=heaptype\n",
    "    def size(self):\n",
    "        return len(self.items)\n",
    "    def top(self):\n",
    "        if len(self.items)==0:\n",
    "            return None\n",
    "        return self.items[0]\n",
    "    def push(self, x):\n",
    "        self.items.append(x)\n",
    "        current = len(self.items)-1\n",
    "        while(current!=0):\n",
    "            parent=(current-1)/2\n",
    "            if (self.heaptype=='maxHeap' and self.items[current]>self.items[parent]) or (self.heaptype=='minHeap' and self.items[current]<self.items[parent]):\n",
    "                self.items[current], self.items[parent] = self.items[parent], self.items[current]\n",
    "            else:\n",
    "                break\n",
    "            current = parent\n",
    "    def pop(self):\n",
    "        if len(self.items)==0:\n",
    "            return None\n",
    "        size = len(self.items)\n",
    "        rt = self.items[0]\n",
    "        self.items[0] = self.items[size-1]\n",
    "        self.items.pop()\n",
    "        size = len(self.items)\n",
    "        current = 0\n",
    "        while current*2+1 < size:\n",
    "            child = current*2+1\n",
    "            if self.heaptype=='minHeap':\n",
    "                # tip: 用当前节点和小的子节点做比较即可，注意此时存在右节点为空的情况\n",
    "                if child+1<size and self.items[child]>self.items[child+1]:\n",
    "                    child = child+1\n",
    "                if self.items[current] > self.items[child]:\n",
    "                    self.items[child], self.items[current] = self.items[current], self.items[child]\n",
    "                else:\n",
    "                    break\n",
    "            else:\n",
    "                if child+1<size and self.items[child]<self.items[child+1]:\n",
    "                    child = child+1\n",
    "                if self.items[current] < self.items[child]:\n",
    "                    self.items[child], self.items[current] = self.items[current], self.items[child]\n",
    "                else:\n",
    "                    break\n",
    "            current = child\n",
    "        return rt"
   ]
  },
  {
   "cell_type": "code",
   "execution_count": 88,
   "metadata": {},
   "outputs": [
    {
     "name": "stdout",
     "output_type": "stream",
     "text": [
      "7\n",
      "7\n",
      "6\n"
     ]
    }
   ],
   "source": [
    "maxheaptest = myHeap(heaptype='maxHeap')\n",
    "maxheaptest.push(4)\n",
    "maxheaptest.push(3)\n",
    "maxheaptest.push(5)\n",
    "maxheaptest.push(6)\n",
    "maxheaptest.push(7)\n",
    "print maxheaptest.top()\n",
    "print maxheaptest.pop()\n",
    "print maxheaptest.top()"
   ]
  },
  {
   "cell_type": "code",
   "execution_count": 89,
   "metadata": {},
   "outputs": [
    {
     "name": "stdout",
     "output_type": "stream",
     "text": [
      "None\n",
      "None\n",
      "1\n",
      "1\n",
      "2\n"
     ]
    }
   ],
   "source": [
    "minheaptest = myHeap(heaptype='minHeap')\n",
    "print minheaptest.top()\n",
    "print minheaptest.pop()\n",
    "minheaptest.push(4)\n",
    "minheaptest.push(3)\n",
    "minheaptest.push(5)\n",
    "minheaptest.push(1)\n",
    "minheaptest.push(2)\n",
    "print minheaptest.top()\n",
    "print minheaptest.pop()\n",
    "print minheaptest.top()"
   ]
  },
  {
   "cell_type": "code",
   "execution_count": 90,
   "metadata": {
    "collapsed": true
   },
   "outputs": [],
   "source": [
    "#堆排序，从小到大排，借助最小堆\n",
    "def heapSort(a):\n",
    "    myheap = myHeap(heaptype='minHeap')\n",
    "    for i in a:\n",
    "        myheap.push(i)\n",
    "    rt = []\n",
    "    while myheap.size()>0:\n",
    "        rt.append(myheap.pop())\n",
    "    return rt"
   ]
  },
  {
   "cell_type": "code",
   "execution_count": 91,
   "metadata": {},
   "outputs": [
    {
     "name": "stdout",
     "output_type": "stream",
     "text": [
      "[1, 2, 3, 4, 5]\n",
      "[1, 2, 3, 4, 5]\n"
     ]
    }
   ],
   "source": [
    "print heapSort([1,2,3,4,5])\n",
    "print heapSort([5,4,3,2,1])"
   ]
  },
  {
   "cell_type": "code",
   "execution_count": 92,
   "metadata": {
    "collapsed": true
   },
   "outputs": [],
   "source": [
    "#求数组第K大，借助最小堆，时间复杂度 N*logk\n",
    "def findK(a, k):\n",
    "    myheap = myHeap(heaptype='minHeap')\n",
    "    length = len(a)\n",
    "    for i in a:\n",
    "        if myheap.size()<k:\n",
    "            myheap.push(i)\n",
    "        else:\n",
    "            if i<myheap.top():\n",
    "                continue\n",
    "            else:\n",
    "                myheap.pop()\n",
    "                myheap.push(i)\n",
    "    return myheap.top()"
   ]
  },
  {
   "cell_type": "code",
   "execution_count": 93,
   "metadata": {},
   "outputs": [
    {
     "name": "stdout",
     "output_type": "stream",
     "text": [
      "9\n",
      "8\n",
      "7\n",
      "6\n",
      "5\n"
     ]
    }
   ],
   "source": [
    "print findK([4,5,6,3,2,1,7,8,9], 1)\n",
    "print findK([4,5,6,3,2,1,7,8,9], 2)\n",
    "print findK([4,5,6,3,2,1,7,8,9], 3)\n",
    "print findK([4,5,6,3,2,1,7,8,9], 4)\n",
    "print findK([4,5,6,3,2,1,7,8,9], 5)"
   ]
  },
  {
   "cell_type": "code",
   "execution_count": 94,
   "metadata": {},
   "outputs": [],
   "source": [
    "#求数组第K大，借助快排的思想，时间复杂度  N*2\n",
    "def findK_2(a, k):\n",
    "    #第K大的数位于第K+1位！！\n",
    "    k = k-1\n",
    "    start = 0\n",
    "    end = len(a)-1\n",
    "    while(start<=end):\n",
    "        partition = help(a, start, end)\n",
    "        if partition==k:\n",
    "            return a[partition]\n",
    "        elif partition>k:\n",
    "            end = partition-1\n",
    "        else:\n",
    "            start = partition+1\n",
    "    return -1"
   ]
  },
  {
   "cell_type": "code",
   "execution_count": 95,
   "metadata": {},
   "outputs": [],
   "source": [
    "#在start-end区间操作：以start为基准，比它小的往右放，大的往左放，原址处理\n",
    "def help(a, start, end):\n",
    "    i = start\n",
    "    j = end\n",
    "    tmp = a[start]\n",
    "    while(i<j):\n",
    "        while(i<j and a[j]<=tmp):\n",
    "            j = j-1\n",
    "        a[i] = a[j]\n",
    "        while(i<j and a[i]>=tmp):\n",
    "            i = i+1\n",
    "        a[j] = a[i]\n",
    "    a[i] = tmp\n",
    "    return i"
   ]
  },
  {
   "cell_type": "code",
   "execution_count": 96,
   "metadata": {},
   "outputs": [
    {
     "name": "stdout",
     "output_type": "stream",
     "text": [
      "9\n",
      "8\n",
      "7\n",
      "6\n",
      "5\n"
     ]
    }
   ],
   "source": [
    "print findK_2([4,5,6,3,2,1,7,8,9], 1)\n",
    "print findK_2([4,5,6,3,2,1,7,8,9], 2)\n",
    "print findK_2([4,5,6,3,2,1,7,8,9], 3)\n",
    "print findK_2([4,5,6,3,2,1,7,8,9], 4)\n",
    "print findK_2([4,5,6,3,2,1,7,8,9], 5)"
   ]
  },
  {
   "cell_type": "code",
   "execution_count": null,
   "metadata": {
    "collapsed": true
   },
   "outputs": [],
   "source": []
  }
 ],
 "metadata": {
  "kernelspec": {
   "display_name": "Python 2",
   "language": "python",
   "name": "python2"
  },
  "language_info": {
   "codemirror_mode": {
    "name": "ipython",
    "version": 2
   },
   "file_extension": ".py",
   "mimetype": "text/x-python",
   "name": "python",
   "nbconvert_exporter": "python",
   "pygments_lexer": "ipython2",
   "version": "2.7.10"
  }
 },
 "nbformat": 4,
 "nbformat_minor": 2
}
