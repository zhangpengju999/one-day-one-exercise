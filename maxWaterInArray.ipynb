{
 "cells": [
  {
   "cell_type": "code",
   "execution_count": 2,
   "metadata": {
    "collapsed": true
   },
   "outputs": [],
   "source": [
    "#给定一个非负整数数组，求数组里最多盛多少水\n",
    "#eg.  [2,5,1,2,3,1,7,5,6]   return 14\n",
    "#时间复杂度 O(N)"
   ]
  },
  {
   "cell_type": "code",
   "execution_count": 14,
   "metadata": {
    "collapsed": true
   },
   "outputs": [],
   "source": [
    "def maxWaterInArray(a):\n",
    "    if len(a) <= 2:\n",
    "        return 0\n",
    "    length = len(a)\n",
    "    #取数组里的最大值及其下标，注意最大值可能有多个\n",
    "    max_element = -1\n",
    "    max_indexs = []\n",
    "    for index in range(length):\n",
    "        if a[index]>max_element:\n",
    "            max_element = a[index]\n",
    "            del max_indexs[:]\n",
    "            max_indexs.append(index)\n",
    "        elif a[index]==max_element:\n",
    "            max_indexs.append(index)\n",
    "    left_max = 0\n",
    "    right_max = 0\n",
    "    rt_int = 0\n",
    "    for left_index in range(0,max_indexs[0]):\n",
    "        left_max = max(left_max, a[left_index])\n",
    "        rt_int += left_max - a[left_index]\n",
    "    for right_index in range(length-1, max_indexs[-1], -1):\n",
    "        right_max = max(right_max, a[right_index])\n",
    "        rt_int += right_max - a[right_index]\n",
    "    for middle_index in range(max_indexs[0]+1, max_indexs[-1]):\n",
    "        rt_int += max_element - a[middle_index]\n",
    "    return rt_int"
   ]
  },
  {
   "cell_type": "code",
   "execution_count": 24,
   "metadata": {},
   "outputs": [
    {
     "name": "stdout",
     "output_type": "stream",
     "text": [
      "0\n",
      "0\n",
      "2\n",
      "0\n",
      "16\n",
      "14\n",
      "10\n"
     ]
    }
   ],
   "source": [
    "print maxWaterInArray([1])\n",
    "print maxWaterInArray([0,2])\n",
    "print maxWaterInArray([2,0,2])\n",
    "print maxWaterInArray([1,2,3,4,5,4,3,2,1])\n",
    "print maxWaterInArray([1,2,3,4,5,4,3,2,1,2,3,4,5])\n",
    "print maxWaterInArray([2,5,1,2,3,1,7,5,6])\n",
    "print maxWaterInArray([2,4,1,5,3,1,7,5,6])"
   ]
  },
  {
   "cell_type": "code",
   "execution_count": null,
   "metadata": {
    "collapsed": true
   },
   "outputs": [],
   "source": []
  }
 ],
 "metadata": {
  "kernelspec": {
   "display_name": "Python 2",
   "language": "python",
   "name": "python2"
  },
  "language_info": {
   "codemirror_mode": {
    "name": "ipython",
    "version": 2
   },
   "file_extension": ".py",
   "mimetype": "text/x-python",
   "name": "python",
   "nbconvert_exporter": "python",
   "pygments_lexer": "ipython2",
   "version": "2.7.10"
  }
 },
 "nbformat": 4,
 "nbformat_minor": 2
}
