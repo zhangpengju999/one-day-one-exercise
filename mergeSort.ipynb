{
 "cells": [
  {
   "cell_type": "code",
   "execution_count": 52,
   "metadata": {
    "collapsed": true
   },
   "outputs": [],
   "source": [
    "# 归并排序（副产物：求逆序数个数）(不考虑有重复元素)\n",
    "# 出题人：张晗\n",
    "# 记录人：毕景锐\n",
    "# 其他参与者：龙枭、付昱豪、王康"
   ]
  },
  {
   "cell_type": "code",
   "execution_count": 53,
   "metadata": {
    "collapsed": true
   },
   "outputs": [],
   "source": [
    "#有序数组合并\n",
    "def merge(left, right):\n",
    "    rt_list = []\n",
    "    l = r = 0\n",
    "    while l<len(left) and r<len(right):\n",
    "        if left[l] < right[r]:\n",
    "            rt_list.append(left[l])\n",
    "            l += 1\n",
    "        else: # left[l] > right[r]\n",
    "            rt_list.append(right[r])\n",
    "            r += 1\n",
    "            #出现逆序对--\n",
    "            #统计原理：目前left[l]已经比right[r]大了，因为left是有序数组，所以left[l+1:]都比left[l]大，\n",
    "            #所以产生的逆序对个数是 len(left)-1\n",
    "            global invert_count\n",
    "            invert_count += len(left) - l\n",
    "        if l == len(left):\n",
    "            #left数组遍历完了，加上right数组(如果还剩下)剩下的部分。循环至此已经不满足while条件，跳出while循环\n",
    "            rt_list.extend(right[r:])\n",
    "        if r == len(right): \n",
    "            rt_list.extend(left[l:])\n",
    "    return rt_list"
   ]
  },
  {
   "cell_type": "code",
   "execution_count": 54,
   "metadata": {
    "collapsed": true
   },
   "outputs": [],
   "source": [
    "#归并排序\n",
    "def mergeSort(a):\n",
    "    if len(a) <= 1:\n",
    "        return a\n",
    "    #二路归并\n",
    "    index = len(a) / 2\n",
    "    left = mergeSort(a[:index])\n",
    "    right = mergeSort(a[index:])\n",
    "    return merge(left, right)"
   ]
  },
  {
   "cell_type": "code",
   "execution_count": 55,
   "metadata": {},
   "outputs": [
    {
     "name": "stdout",
     "output_type": "stream",
     "text": [
      "[1]\n",
      "0\n",
      "[1, 2, 3, 4, 5]\n",
      "0\n",
      "[1, 2, 3, 4, 5]\n",
      "10\n",
      "[1, 2, 3, 4, 5, 7, 9]\n",
      "2\n",
      "[0, 1, 3, 4, 6, 7, 8, 9]\n",
      "12\n"
     ]
    }
   ],
   "source": [
    "if __name__ == \"__main__\":\n",
    "    test_cases = [[1], [1,2,3,4,5], [5,4,3,2,1], [1,3,2,4,7,5,9], [4,3,1,6,9,8,0,7]]\n",
    "    for test_case in test_cases:\n",
    "        invert_count = 0\n",
    "        print mergeSort(test_case)\n",
    "        print invert_count"
   ]
  },
  {
   "cell_type": "code",
   "execution_count": null,
   "metadata": {},
   "outputs": [],
   "source": []
  },
  {
   "cell_type": "code",
   "execution_count": null,
   "metadata": {
    "collapsed": true
   },
   "outputs": [],
   "source": []
  }
 ],
 "metadata": {
  "kernelspec": {
   "display_name": "Python 2",
   "language": "python",
   "name": "python2"
  },
  "language_info": {
   "codemirror_mode": {
    "name": "ipython",
    "version": 2
   },
   "file_extension": ".py",
   "mimetype": "text/x-python",
   "name": "python",
   "nbconvert_exporter": "python",
   "pygments_lexer": "ipython2",
   "version": "2.7.10"
  }
 },
 "nbformat": 4,
 "nbformat_minor": 2
}
