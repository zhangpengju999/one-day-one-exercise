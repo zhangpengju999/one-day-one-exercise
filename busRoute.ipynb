{
 "cells": [
  {
   "cell_type": "raw",
   "metadata": {},
   "source": [
    "公交系统：站点+公交车\n",
    "[[1,2,7],[3,6,7]]\n",
    "S=1\n",
    "T=6\n",
    "return 2"
   ]
  },
  {
   "cell_type": "code",
   "execution_count": 4,
   "metadata": {
    "collapsed": true
   },
   "outputs": [],
   "source": [
    "def buildGraph(busRoute):\n",
    "    graph = {}\n",
    "    for bus in busRoute:\n",
    "        for station1 in bus:\n",
    "            for station2 in bus:\n",
    "                if station1==station2:\n",
    "                    continue\n",
    "                if station1 not in graph.keys():\n",
    "                    graph[station1] = []\n",
    "                    graph[station1].append(station2)\n",
    "                else:\n",
    "                    toStationList = graph[station1]\n",
    "                    if station2 in toStationList:\n",
    "                        continue\n",
    "                    else:\n",
    "                        toStationList.append(station2)\n",
    "    return graph"
   ]
  },
  {
   "cell_type": "code",
   "execution_count": 5,
   "metadata": {},
   "outputs": [
    {
     "name": "stdout",
     "output_type": "stream",
     "text": [
      "{1: [2, 7], 2: [1, 7], 3: [6, 7], 6: [3, 7], 7: [1, 2, 3, 6]}\n"
     ]
    }
   ],
   "source": [
    "print buildGraph([[1,2,7],[3,6,7]])"
   ]
  },
  {
   "cell_type": "code",
   "execution_count": 6,
   "metadata": {
    "collapsed": true
   },
   "outputs": [],
   "source": [
    "def buildVisited(busRoute):\n",
    "    visited = {}\n",
    "    for bus in busRoute:\n",
    "        for station in bus:\n",
    "            if station in visited.keys():\n",
    "                continue\n",
    "            else:\n",
    "                visited[station] = False\n",
    "    return visited"
   ]
  },
  {
   "cell_type": "code",
   "execution_count": 7,
   "metadata": {},
   "outputs": [
    {
     "name": "stdout",
     "output_type": "stream",
     "text": [
      "{1: False, 2: False, 3: False, 6: False, 7: False}\n"
     ]
    }
   ],
   "source": [
    "print buildVisited([[1,2,7],[3,6,7]])"
   ]
  },
  {
   "cell_type": "code",
   "execution_count": 8,
   "metadata": {
    "collapsed": true
   },
   "outputs": [],
   "source": [
    "from collections import deque"
   ]
  },
  {
   "cell_type": "code",
   "execution_count": 9,
   "metadata": {},
   "outputs": [],
   "source": [
    "def main(busRoute, S, T):\n",
    "    if S==T:\n",
    "        return 0\n",
    "    graph = buildGraph(busRoute)\n",
    "    visited = buildVisited(busRoute)\n",
    "    queue = deque()\n",
    "    queue.append((S, 0))\n",
    "    while(len(queue)):\n",
    "        curStation, takes = queue.popleft()\n",
    "        toStationList = graph[curStation]\n",
    "        for toStation in toStationList:\n",
    "            if toStation == T:\n",
    "                return takes+1\n",
    "            if not visited[toStation]:\n",
    "                queue.append((toStation, takes+1))\n",
    "                visited[toStation] = True\n",
    "    #如果while走完还没返回，说明没有tong'lu\n",
    "    return -1"
   ]
  },
  {
   "cell_type": "code",
   "execution_count": 17,
   "metadata": {},
   "outputs": [
    {
     "name": "stdout",
     "output_type": "stream",
     "text": [
      "2\n",
      "1\n",
      "-1\n",
      "-1\n",
      "3\n"
     ]
    }
   ],
   "source": [
    "print main([[1,2,7],[3,6,7]], 1, 6)\n",
    "print main([[1,2,7],[3,6,7]], 1, 7)\n",
    "print main([[1,2,7],[3,6,7]], 1, 8)\n",
    "print main([[1,2,7],[3,6,8],[4,6,9]], 1, 8)\n",
    "print main([[1,2,7],[3,6,8],[4,2,3]], 1, 8)"
   ]
  },
  {
   "cell_type": "code",
   "execution_count": null,
   "metadata": {
    "collapsed": true
   },
   "outputs": [],
   "source": []
  }
 ],
 "metadata": {
  "kernelspec": {
   "display_name": "Python 2",
   "language": "python",
   "name": "python2"
  },
  "language_info": {
   "codemirror_mode": {
    "name": "ipython",
    "version": 2
   },
   "file_extension": ".py",
   "mimetype": "text/x-python",
   "name": "python",
   "nbconvert_exporter": "python",
   "pygments_lexer": "ipython2",
   "version": "2.7.10"
  }
 },
 "nbformat": 4,
 "nbformat_minor": 2
}
