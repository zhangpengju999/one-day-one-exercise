{
 "cells": [
  {
   "cell_type": "code",
   "execution_count": 2,
   "metadata": {},
   "outputs": [
    {
     "name": "stdout",
     "output_type": "stream",
     "text": [
      "[2, 3, 5, 9, 11, 13, 14, 15, 0, 0, 0, 0, 0]\n"
     ]
    }
   ],
   "source": [
    "\"\"\"\n",
    "    LIS(最长递增子序列)\n",
    "\n",
    "    :by 张晗 2018-01-17\n",
    "\"\"\"\n",
    "#!/usr/bin/python\n",
    "\n",
    "import sys\n",
    "\n",
    "def binarySearch(a,r,i):\n",
    "    right = r\n",
    "    left = 0\n",
    "    while(left <= right):\n",
    "        mid = (left+right)/2\n",
    "        if a[mid] == i:\n",
    "            return mid\n",
    "        elif a[mid] < i:\n",
    "            left = mid+1\n",
    "        else:\n",
    "            right = mid-1\n",
    "    return left\n",
    "\n",
    "def LIS(a):\n",
    "    ans = [0]*len(a)\n",
    "    ans[0] = a[0]  \n",
    "    l = 0\n",
    "    for index,value in enumerate(a):\n",
    "        if value > ans[l]:\n",
    "            l += 1\n",
    "            ans[l] = value\n",
    "        else:\n",
    "            ans[binarySearch(ans,l,value)] = value\n",
    "#         print index,ans\n",
    "    return ans\n",
    "\n",
    "\n",
    "if __name__ == '__main__':\n",
    "    a = [2,3,6,45,10,12,5,9,11,17,13,14,15]\n",
    "    print LIS(a)"
   ]
  },
  {
   "cell_type": "code",
   "execution_count": 6,
   "metadata": {
    "collapsed": true
   },
   "outputs": [],
   "source": [
    "#动态规划求解LIS, 复杂度O(n^2)\n",
    "#递推式： L(j) = max{L(i)+1 if i<j and a[i]<a[j]}\n",
    "def LIS_DP(a):\n",
    "    if not a or len(a)==0:\n",
    "        return 0\n",
    "    length = len(a)\n",
    "    if length == 1:\n",
    "        return 1\n",
    "    L = [0] * length\n",
    "    L[0] = 1\n",
    "    for j in range(1, length):\n",
    "        tmp_max = 0\n",
    "        for i in range(0, j):\n",
    "            if a[i]<a[j]:\n",
    "                tmp_max = max(L[i], tmp_max)\n",
    "        L[j] = tmp_max + 1\n",
    "    return max(L)"
   ]
  },
  {
   "cell_type": "code",
   "execution_count": 7,
   "metadata": {},
   "outputs": [
    {
     "name": "stdout",
     "output_type": "stream",
     "text": [
      "8\n"
     ]
    }
   ],
   "source": [
    "a = [2,3,6,45,10,12,5,9,11,17,13,14,15]\n",
    "print LIS_DP(a)"
   ]
  },
  {
   "cell_type": "code",
   "execution_count": null,
   "metadata": {
    "collapsed": true
   },
   "outputs": [],
   "source": []
  }
 ],
 "metadata": {
  "kernelspec": {
   "display_name": "Python 2",
   "language": "python",
   "name": "python2"
  },
  "language_info": {
   "codemirror_mode": {
    "name": "ipython",
    "version": 2
   },
   "file_extension": ".py",
   "mimetype": "text/x-python",
   "name": "python",
   "nbconvert_exporter": "python",
   "pygments_lexer": "ipython2",
   "version": "2.7.10"
  }
 },
 "nbformat": 4,
 "nbformat_minor": 2
}
