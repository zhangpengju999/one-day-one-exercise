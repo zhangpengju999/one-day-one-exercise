{
 "cells": [
  {
   "cell_type": "markdown",
   "metadata": {},
   "source": [
    "<img src=\"images/20180117_LCS.jpeg\" style=\"width:350px;height:270px;\">\n",
    "#####   :出题人：2018-01-17 by 张鹏举\n",
    "#####   :撰写人：2018-01-17 by 张晗 \n",
    "#####   :参与人：张晗、张鹏举、毕景锐、胡泽行、龙枭"
   ]
  },
  {
   "cell_type": "code",
   "execution_count": 26,
   "metadata": {},
   "outputs": [
    {
     "name": "stdout",
     "output_type": "stream",
     "text": [
      "a :  aecbdfdg\n",
      "b :  adbedcgf\n",
      "LCS length :  4\n",
      "a\n",
      "e\n",
      "c\n",
      "f\n"
     ]
    }
   ],
   "source": [
    "\"\"\"\n",
    "    LCS(Longest Common Subsequence OR Longest Common Substring)\n",
    "    最长公共子序列不需要连续，子串要求连续\n",
    "    \n",
    "    ~~~~~~~~\n",
    "    dp方法：dp[i][j]表示以a[i],b[j]为结尾的子串最长的公共S长度\n",
    "        if S == 'Subsequence':\n",
    "            dp[i+1][j+1] = max(dp[i][j+1], dp[i+1][j])\n",
    "        elif S == 'Substring':\n",
    "            dp[i+1][j+1] = 0\n",
    "    ~~~~~~~~\n",
    "\"\"\"\n",
    "import numpy as np\n",
    "\n",
    "def LCS(a,b,S='Subsequence'):\n",
    "    la = len(a)\n",
    "    lb = len(b)\n",
    "    dp = np.zeros([la+1,lb+1],int)\n",
    "    max_val = 0\n",
    "    for i in range(la):\n",
    "        for j in range(lb):\n",
    "            if a[i] == b[j]:\n",
    "                dp[i+1][j+1] = dp[i][j] + 1\n",
    "                max_val = max(dp[i+1][j+1], max_val)\n",
    "            else:\n",
    "                if S == 'Subsequence':\n",
    "                    dp[i+1][j+1] = max(dp[i][j+1], dp[i+1][j])\n",
    "                elif S == 'Substring':\n",
    "                    dp[i+1][j+1] = 0\n",
    "                else:\n",
    "                    print('check full name of S parameter ...')\n",
    "    return max_val, dp\n",
    "\n",
    "\n",
    "def printLCS(dp,a,i,j):\n",
    "    if i == 0 or j == 0:\n",
    "        return\n",
    "    if dp[i-1][j] == dp[i][j-1]:\n",
    "        if  dp[i-1][j] == dp[i-1][j-1] and dp[i-1][j-1] < dp[i][j]:\n",
    "            printLCS(dp,a,i-1,j-1)\n",
    "            print(a[i-1])\n",
    "        else :\n",
    "            printLCS(dp,a,i-1,j)\n",
    "    else:\n",
    "        printLCS(dp,a,i-1,j) if dp[i-1][j] > dp[i][j-1] else printLCS(dp,a,i,j-1)\n",
    "\n",
    "\n",
    "def test1():\n",
    "    a = 'abcde'\n",
    "    b = 'abgde'\n",
    "    print 'a : {} | b : {} | lcsubstring length : {}'.format(a,b,LCS(a,b,S='Substring')[0])\n",
    "    \n",
    "\n",
    "def test2():\n",
    "    s = 'abcddefg'\n",
    "    a = list(copy.copy(s))\n",
    "    b = list(copy.copy(s))\n",
    "    random.shuffle(a)\n",
    "    random.shuffle(b)\n",
    "    print 'a : ', ''.join(a)\n",
    "    print 'b : ', ''.join(b)    \n",
    "    max_val, lcsubsequence = LCS(a,b,S='Subsequence')\n",
    "    print 'LCS length : ', max_val\n",
    "    printLCS(lcsubsequence,a,len(a),len(b))\n",
    "        \n",
    "        \n",
    "if __name__ == '__main__':\n",
    "    test2()"
   ]
  }
 ],
 "metadata": {
  "kernelspec": {
   "display_name": "Python 2",
   "language": "python",
   "name": "python2"
  },
  "language_info": {
   "codemirror_mode": {
    "name": "ipython",
    "version": 2
   },
   "file_extension": ".py",
   "mimetype": "text/x-python",
   "name": "python",
   "nbconvert_exporter": "python",
   "pygments_lexer": "ipython2",
   "version": "2.7.13"
  }
 },
 "nbformat": 4,
 "nbformat_minor": 2
}
