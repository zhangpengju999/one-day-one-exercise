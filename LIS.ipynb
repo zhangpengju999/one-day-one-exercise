{
 "cells": [
  {
   "cell_type": "code",
   "execution_count": 2,
   "metadata": {},
   "outputs": [
    {
     "name": "stdout",
     "output_type": "stream",
     "text": [
      "[2, 3, 5, 9, 11, 13, 14, 15, 0, 0, 0, 0, 0]\n"
     ]
    }
   ],
   "source": [
    "\"\"\"\n",
    "    LIS(最长递增子序列)\n",
    "\n",
    "    :by 张晗 2018-01-17\n",
    "\"\"\"\n",
    "#!/usr/bin/python\n",
    "\n",
    "import sys\n",
    "\n",
    "def binarySearch(a,r,i):\n",
    "    right = r\n",
    "    left = 0\n",
    "    while(left <= right):\n",
    "        mid = (left+right)/2\n",
    "        if a[mid] == i:\n",
    "            return mid\n",
    "        elif a[mid] < i:\n",
    "            left = mid+1\n",
    "        else:\n",
    "            right = mid-1\n",
    "    return left\n",
    "\n",
    "def LIS(a):\n",
    "    ans = [0]*len(a)\n",
    "    ans[0] = a[0]  \n",
    "    l = 0\n",
    "    for index,value in enumerate(a):\n",
    "        if value > ans[l]:\n",
    "            l += 1\n",
    "            ans[l] = value\n",
    "        else:\n",
    "            ans[binarySearch(ans,l,value)] = value\n",
    "#         print index,ans\n",
    "    return ans\n",
    "\n",
    "\n",
    "if __name__ == '__main__':\n",
    "    a = [2,3,6,45,10,12,5,9,11,17,13,14,15]\n",
    "    print LIS(a)"
   ]
  }
 ],
 "metadata": {
  "kernelspec": {
   "display_name": "Python 2",
   "language": "python",
   "name": "python2"
  },
  "language_info": {
   "codemirror_mode": {
    "name": "ipython",
    "version": 2
   },
   "file_extension": ".py",
   "mimetype": "text/x-python",
   "name": "python",
   "nbconvert_exporter": "python",
   "pygments_lexer": "ipython2",
   "version": "2.7.13"
  }
 },
 "nbformat": 4,
 "nbformat_minor": 2
}
